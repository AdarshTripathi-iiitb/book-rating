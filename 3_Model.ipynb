{
 "cells": [
  {
   "cell_type": "code",
   "execution_count": 1,
   "id": "9cf38128",
   "metadata": {},
   "outputs": [],
   "source": [
    "%matplotlib inline\n",
    "import pandas as pd\n",
    "import numpy as np\n",
    "import nltk\n",
    "import matplotlib.pyplot as plt\n",
    "import seaborn as sns\n",
    "from sklearn.feature_extraction.text import TfidfTransformer\n",
    "from sklearn.feature_extraction.text import TfidfVectorizer\n",
    "from sklearn.feature_extraction.text import CountVectorizer\n",
    "from sklearn.metrics import confusion_matrix\n",
    "from sklearn import metrics"
   ]
  },
  {
   "cell_type": "code",
   "execution_count": 2,
   "id": "64f099c2",
   "metadata": {},
   "outputs": [],
   "source": [
    "df1=pd.read_csv('preprocess.csv')\n",
    "df2=pd.read_csv('Testpreprocess.csv')"
   ]
  },
  {
   "cell_type": "code",
   "execution_count": 3,
   "id": "0d4dfe7b",
   "metadata": {},
   "outputs": [
    {
     "data": {
      "text/plain": [
       "(630000, 13)"
      ]
     },
     "execution_count": 3,
     "metadata": {},
     "output_type": "execute_result"
    }
   ],
   "source": [
    "df1.shape"
   ]
  },
  {
   "cell_type": "code",
   "execution_count": 4,
   "id": "67db587c",
   "metadata": {},
   "outputs": [
    {
     "data": {
      "text/plain": [
       "(270000, 12)"
      ]
     },
     "execution_count": 4,
     "metadata": {},
     "output_type": "execute_result"
    }
   ],
   "source": [
    "df2.shape"
   ]
  },
  {
   "cell_type": "code",
   "execution_count": 5,
   "id": "7c38e17f",
   "metadata": {},
   "outputs": [
    {
     "data": {
      "text/plain": [
       "(263685, 13)"
      ]
     },
     "execution_count": 5,
     "metadata": {},
     "output_type": "execute_result"
    }
   ],
   "source": [
    "# Drop rows (Train data) where 'n_votes' is <1\n",
    "df1 = df1.loc[df1['n_votes']>0]\n",
    "# Display the resulting DataFrame\n",
    "df1.shape"
   ]
  },
  {
   "cell_type": "code",
   "execution_count": 6,
   "id": "6ff823da",
   "metadata": {},
   "outputs": [
    {
     "data": {
      "text/plain": [
       "(263685, 2)"
      ]
     },
     "execution_count": 6,
     "metadata": {},
     "output_type": "execute_result"
    }
   ],
   "source": [
    "columns_to_drop = ['user_id', 'book_id','review_id','review_text','date_added','date_updated','read_at','started_at','n_votes','n_comments','review']\n",
    "df1=df1.drop(columns=columns_to_drop)\n",
    "df1.shape"
   ]
  },
  {
   "cell_type": "code",
   "execution_count": 7,
   "id": "0a121a39",
   "metadata": {},
   "outputs": [
    {
     "name": "stdout",
     "output_type": "stream",
     "text": [
      "rating\n",
      "4    90455\n",
      "5    89739\n",
      "3    45945\n",
      "2    18999\n",
      "0     9494\n",
      "1     9053\n",
      "Name: count, dtype: int64\n"
     ]
    }
   ],
   "source": [
    "unique_values = df1['rating'].value_counts()\n",
    "print(unique_values)"
   ]
  },
  {
   "cell_type": "code",
   "execution_count": 8,
   "id": "176a91d7",
   "metadata": {},
   "outputs": [
    {
     "data": {
      "text/plain": [
       "(270000, 2)"
      ]
     },
     "execution_count": 8,
     "metadata": {},
     "output_type": "execute_result"
    }
   ],
   "source": [
    "columns_to_drop = ['user_id', 'book_id','review_text','date_added','date_updated','read_at','started_at','n_votes','n_comments','review']\n",
    "df2=df2.drop(columns=columns_to_drop)\n",
    "df2.shape"
   ]
  },
  {
   "cell_type": "code",
   "execution_count": 9,
   "id": "0f645c72",
   "metadata": {},
   "outputs": [
    {
     "data": {
      "text/html": [
       "<div>\n",
       "<style scoped>\n",
       "    .dataframe tbody tr th:only-of-type {\n",
       "        vertical-align: middle;\n",
       "    }\n",
       "\n",
       "    .dataframe tbody tr th {\n",
       "        vertical-align: top;\n",
       "    }\n",
       "\n",
       "    .dataframe thead th {\n",
       "        text-align: right;\n",
       "    }\n",
       "</style>\n",
       "<table border=\"1\" class=\"dataframe\">\n",
       "  <thead>\n",
       "    <tr style=\"text-align: right;\">\n",
       "      <th></th>\n",
       "      <th>review_id</th>\n",
       "      <th>destr_review</th>\n",
       "    </tr>\n",
       "  </thead>\n",
       "  <tbody>\n",
       "    <tr>\n",
       "      <th>0</th>\n",
       "      <td>b3d1248da3dd5cb0c15d5e737793ca32</td>\n",
       "      <td>tw book view spoiler wicca witchcraft minor ad...</td>\n",
       "    </tr>\n",
       "    <tr>\n",
       "      <th>1</th>\n",
       "      <td>8ac45a1ad472e40dd19245317087f009</td>\n",
       "      <td>found like half extremely interesting excellen...</td>\n",
       "    </tr>\n",
       "    <tr>\n",
       "      <th>2</th>\n",
       "      <td>e083ab7283f9c8f0edd6f5673af348a9</td>\n",
       "      <td>dragon path sneak start book pause middle keep...</td>\n",
       "    </tr>\n",
       "    <tr>\n",
       "      <th>3</th>\n",
       "      <td>167e419508a6a188472e9568226da48a</td>\n",
       "      <td>star well written drawn story never liked jona...</td>\n",
       "    </tr>\n",
       "    <tr>\n",
       "      <th>4</th>\n",
       "      <td>03a8a7306e3ef4c1ffd95de068b58b4e</td>\n",
       "      <td>crestfallen feel read book hidden sound awesom...</td>\n",
       "    </tr>\n",
       "  </tbody>\n",
       "</table>\n",
       "</div>"
      ],
      "text/plain": [
       "                          review_id  \\\n",
       "0  b3d1248da3dd5cb0c15d5e737793ca32   \n",
       "1  8ac45a1ad472e40dd19245317087f009   \n",
       "2  e083ab7283f9c8f0edd6f5673af348a9   \n",
       "3  167e419508a6a188472e9568226da48a   \n",
       "4  03a8a7306e3ef4c1ffd95de068b58b4e   \n",
       "\n",
       "                                        destr_review  \n",
       "0  tw book view spoiler wicca witchcraft minor ad...  \n",
       "1  found like half extremely interesting excellen...  \n",
       "2  dragon path sneak start book pause middle keep...  \n",
       "3  star well written drawn story never liked jona...  \n",
       "4  crestfallen feel read book hidden sound awesom...  "
      ]
     },
     "execution_count": 9,
     "metadata": {},
     "output_type": "execute_result"
    }
   ],
   "source": [
    "df2.head(5)"
   ]
  },
  {
   "cell_type": "code",
   "execution_count": 10,
   "id": "0aa66215",
   "metadata": {},
   "outputs": [],
   "source": [
    "col=['destr_review']\n",
    "df3=df2.drop(columns=col)"
   ]
  },
  {
   "cell_type": "code",
   "execution_count": 11,
   "id": "514ac963",
   "metadata": {},
   "outputs": [],
   "source": [
    "col1=['review_id']\n",
    "df2=df2.drop(columns=col1)"
   ]
  },
  {
   "cell_type": "code",
   "execution_count": 12,
   "id": "1c4d9f12",
   "metadata": {},
   "outputs": [
    {
     "data": {
      "text/plain": [
       "(54318, 2)"
      ]
     },
     "execution_count": 12,
     "metadata": {},
     "output_type": "execute_result"
    }
   ],
   "source": [
    "df1 = df1.groupby('rating', group_keys=False).apply(lambda x: x.head(9053))\n",
    "df1.shape"
   ]
  },
  {
   "cell_type": "code",
   "execution_count": null,
   "id": "76407653",
   "metadata": {},
   "outputs": [],
   "source": []
  },
  {
   "cell_type": "code",
   "execution_count": 31,
   "id": "8c8944ba",
   "metadata": {},
   "outputs": [],
   "source": [
    "#Vectorization\n",
    "# max_features = 60500\n",
    "# df1['destr_review'] = df1['destr_review'].fillna('')\n",
    "# tf_idf_vect1=TfidfVectorizer(ngram_range=(1,2),max_features=max_features)\n",
    "# X_tfidf1=tf_idf_vect1.fit_transform((df1['destr_review']).values)"
   ]
  },
  {
   "cell_type": "code",
   "execution_count": 32,
   "id": "cc3b2b3e",
   "metadata": {},
   "outputs": [],
   "source": [
    "# df2['destr_review'] = df2['destr_review'].fillna('')\n",
    "# X_tfidf2=tf_idf_vect1.transform((df2['destr_review']).values)"
   ]
  },
  {
   "cell_type": "code",
   "execution_count": 13,
   "id": "9c4ebbe9",
   "metadata": {},
   "outputs": [],
   "source": [
    "from sklearn.feature_extraction.text import CountVectorizer\n",
    "df1['destr_review'] = df1['destr_review'].fillna('')\n",
    "vectorizer = CountVectorizer(ngram_range=(1,2))\n",
    "X_tfidf1=vectorizer.fit_transform(((df1['destr_review']).values))"
   ]
  },
  {
   "cell_type": "code",
   "execution_count": 14,
   "id": "43316037",
   "metadata": {},
   "outputs": [],
   "source": [
    "df2['destr_review'] = df2['destr_review'].fillna('')\n",
    "X_tfidf2=vectorizer.transform((df2['destr_review']).values)"
   ]
  },
  {
   "cell_type": "code",
   "execution_count": 15,
   "id": "a69ceefb",
   "metadata": {},
   "outputs": [
    {
     "data": {
      "text/plain": [
       "(54318, 2714637)"
      ]
     },
     "execution_count": 15,
     "metadata": {},
     "output_type": "execute_result"
    }
   ],
   "source": [
    "X_tfidf1.shape"
   ]
  },
  {
   "cell_type": "code",
   "execution_count": 16,
   "id": "348ccc9c",
   "metadata": {},
   "outputs": [
    {
     "data": {
      "text/plain": [
       "(270000, 2714637)"
      ]
     },
     "execution_count": 16,
     "metadata": {},
     "output_type": "execute_result"
    }
   ],
   "source": [
    "X_tfidf2.shape"
   ]
  },
  {
   "cell_type": "code",
   "execution_count": 17,
   "id": "4731ef7e",
   "metadata": {},
   "outputs": [],
   "source": [
    "labels = df1['rating']"
   ]
  },
  {
   "cell_type": "code",
   "execution_count": 18,
   "id": "82fc0c43",
   "metadata": {},
   "outputs": [],
   "source": [
    "from sklearn.model_selection import train_test_split\n",
    "from sklearn.metrics import accuracy_score, classification_report\n"
   ]
  },
  {
   "cell_type": "code",
   "execution_count": 19,
   "id": "aaddf8f2",
   "metadata": {},
   "outputs": [],
   "source": [
    "X_train, X_test, y_train, y_test = train_test_split(X_tfidf1, labels, test_size=0.2, random_state=0)"
   ]
  },
  {
   "cell_type": "code",
   "execution_count": 20,
   "id": "ef578a01",
   "metadata": {},
   "outputs": [],
   "source": [
    "from sklearn.pipeline import Pipeline\n",
    "from sklearn.ensemble import RandomForestClassifier\n",
    "from sklearn.feature_extraction.text import TfidfVectorizer\n",
    "\n",
    "pipeline = Pipeline([\n",
    "    ('tfidf', TfidfVectorizer()),\n",
    "    ('rf', RandomForestClassifier())\n",
    "])\n"
   ]
  },
  {
   "cell_type": "code",
   "execution_count": 24,
   "id": "628c5be5",
   "metadata": {},
   "outputs": [],
   "source": [
    "param_grid = {\n",
    "    'tfidf__max_features': [1000, 5000, None],\n",
    "    'rf__n_estimators': [50, 100, 200],\n",
    "    'rf__max_depth': [None, 10, 20],\n",
    "    'rf__min_samples_split': [2, 5, 10],\n",
    "    'rf__min_samples_leaf': [1, 2, 4]\n",
    "}\n"
   ]
  },
  {
   "cell_type": "code",
   "execution_count": 26,
   "id": "f292e54f",
   "metadata": {},
   "outputs": [],
   "source": [
    "from sklearn.pipeline import Pipeline\n",
    "from sklearn.ensemble import RandomForestClassifier\n",
    "from sklearn.feature_extraction.text import TfidfVectorizer\n",
    "from sklearn.decomposition import TruncatedSVD  # Use TruncatedSVD for dimensionality reduction\n",
    "\n",
    "pipeline = Pipeline([\n",
    "    ('tfidf', TfidfVectorizer(lowercase=False, stop_words='english', max_features=5000)),\n",
    "    ('reduce_dim', TruncatedSVD(n_components=100)),  # Dimensionality reduction for sparse matrices\n",
    "    ('rf', RandomForestClassifier())\n",
    "])\n"
   ]
  },
  {
   "cell_type": "code",
   "execution_count": 31,
   "id": "12e50b15",
   "metadata": {},
   "outputs": [
    {
     "ename": "AttributeError",
     "evalue": "'GridSearchCV' object has no attribute 'cv_results_'",
     "output_type": "error",
     "traceback": [
      "\u001b[0;31m---------------------------------------------------------------------------\u001b[0m",
      "\u001b[0;31mAttributeError\u001b[0m                            Traceback (most recent call last)",
      "Cell \u001b[0;32mIn[31], line 1\u001b[0m\n\u001b[0;32m----> 1\u001b[0m best_params \u001b[38;5;241m=\u001b[39m grid_search\u001b[38;5;241m.\u001b[39mcv_results_[\u001b[38;5;124m'\u001b[39m\u001b[38;5;124mparams\u001b[39m\u001b[38;5;124m'\u001b[39m][grid_search\u001b[38;5;241m.\u001b[39mbest_index_]\n\u001b[1;32m      2\u001b[0m \u001b[38;5;28mprint\u001b[39m(\u001b[38;5;124m\"\u001b[39m\u001b[38;5;124mBest parameters found: \u001b[39m\u001b[38;5;124m\"\u001b[39m, best_params)\n\u001b[1;32m      3\u001b[0m \u001b[38;5;28mprint\u001b[39m(\u001b[38;5;124m\"\u001b[39m\u001b[38;5;124mBest cross-validation score: \u001b[39m\u001b[38;5;132;01m{:.2f}\u001b[39;00m\u001b[38;5;124m\"\u001b[39m\u001b[38;5;241m.\u001b[39mformat(grid_search\u001b[38;5;241m.\u001b[39mbest_score_))\n",
      "\u001b[0;31mAttributeError\u001b[0m: 'GridSearchCV' object has no attribute 'cv_results_'"
     ]
    }
   ],
   "source": [
    "best_params = grid_search.cv_results_['params'][grid_search.best_index_]\n",
    "print(\"Best parameters found: \", best_params)\n",
    "print(\"Best cross-validation score: {:.2f}\".format(grid_search.best_score_))\n",
    "print(\"Test set score: {:.2f}\".format(grid_search.score(X_test, y_test)))"
   ]
  },
  {
   "cell_type": "code",
   "execution_count": null,
   "id": "64e6b17d",
   "metadata": {},
   "outputs": [],
   "source": [
    "y_pred = model.predict(X_test)"
   ]
  },
  {
   "cell_type": "code",
   "execution_count": null,
   "id": "497b8700",
   "metadata": {},
   "outputs": [],
   "source": []
  },
  {
   "cell_type": "code",
   "execution_count": 24,
   "id": "7f415300",
   "metadata": {},
   "outputs": [
    {
     "name": "stdout",
     "output_type": "stream",
     "text": [
      "Accuracy: 0.47\n"
     ]
    }
   ],
   "source": [
    "from sklearn.metrics import accuracy_score, classification_report\n",
    "accuracy = accuracy_score(y_test, y_pred)\n",
    "print(f\"Accuracy: {accuracy:.2f}\")"
   ]
  },
  {
   "cell_type": "code",
   "execution_count": 45,
   "id": "e449d14e",
   "metadata": {},
   "outputs": [],
   "source": []
  },
  {
   "cell_type": "code",
   "execution_count": 2,
   "id": "62b06006",
   "metadata": {},
   "outputs": [],
   "source": []
  },
  {
   "cell_type": "code",
   "execution_count": null,
   "id": "c32ce876",
   "metadata": {},
   "outputs": [],
   "source": []
  }
 ],
 "metadata": {
  "kernelspec": {
   "display_name": "Python 3 (ipykernel)",
   "language": "python",
   "name": "python3"
  },
  "language_info": {
   "codemirror_mode": {
    "name": "ipython",
    "version": 3
   },
   "file_extension": ".py",
   "mimetype": "text/x-python",
   "name": "python",
   "nbconvert_exporter": "python",
   "pygments_lexer": "ipython3",
   "version": "3.11.3"
  }
 },
 "nbformat": 4,
 "nbformat_minor": 5
}
